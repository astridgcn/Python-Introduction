{
  "nbformat": 4,
  "nbformat_minor": 0,
  "metadata": {
    "kernelspec": {
      "display_name": "Python 3",
      "language": "python",
      "name": "python3"
    },
    "language_info": {
      "codemirror_mode": {
        "name": "ipython",
        "version": 3
      },
      "file_extension": ".py",
      "mimetype": "text/x-python",
      "name": "python",
      "nbconvert_exporter": "python",
      "pygments_lexer": "ipython3",
      "version": "3.7.6"
    },
    "colab": {
      "name": "Boosting and Random Forest Time Series Quantile Forecasting - As.ipynb",
      "provenance": [],
      "collapsed_sections": [],
      "toc_visible": true
    }
  },
  "cells": [
    {
      "cell_type": "markdown",
      "metadata": {
        "id": "nxqU8aLMGlN2"
      },
      "source": [
        "# **Quantile Boosting & Random Forests sur des séries temporelles.**\n",
        "\n",
        "[Introduction](https://towardsdatascience.com/introduction-to-python-for-data-science-6d1dba7c305c) à Python.\n",
        "\n",
        "*NB :* \n",
        "* *Le boosting est une méthode séquentielle tandis que les random forest est en parallèle (bagging).*\n",
        "* *Les régressions quantiles permettent d'étudier des données peu importe leur répartition, et de ne pas être fortement influencé par les valeurs aberrantes.* "
      ]
    },
    {
      "cell_type": "markdown",
      "source": [
        "## Librairies\n",
        "*Elles fournissent des outils et fonctions avancées pour ce qu'on souhaite faire (ouvrir des fichiers avec des extensions particulières, faire de jolis graphiques, modéliser des données cérébrales, faire des cartes).*"
      ],
      "metadata": {
        "id": "27Te51HpY-Rp"
      }
    },
    {
      "cell_type": "code",
      "source": [
        "# Pour manipuler des matrices / tableaux (https://courspython.com/apprendre-numpy.html)\n",
        "import numpy as np\n",
        "\n",
        "# Pour visualiser graphiquement des données (https://openclassrooms.com/fr/courses/4452741-decouvrez-les-librairies-python-pour-la-data-science/4740942-maitrisez-les-possibilites-offertes-par-matplotlib)\n",
        "import matplotlib.pyplot as plt \n",
        "\n",
        "# Pour manipuler et traiter des données numériques dont les séries temporelles (https://datascientest.com/pandas-python-data-science)\n",
        "import pandas as pd  \n",
        "\n",
        "# Pour visualiser graphiquement : complète matplotlib (https://openclassrooms.com/fr/courses/4452741-decouvrez-les-librairies-python-pour-la-data-science/5559011-realisez-de-beaux-graphiques-avec-seaborn)\n",
        "import seaborn as sns \n",
        "\n",
        "# Pour évaluer les performances de classification : si l'algo fait bien son travail, et comment (https://scikit-learn.org/stable/modules/model_evaluation.html)\n",
        "from sklearn import metrics"
      ],
      "metadata": {
        "id": "rk_MmJW-ZWqE"
      },
      "execution_count": null,
      "outputs": []
    },
    {
      "cell_type": "markdown",
      "source": [
        "## Données"
      ],
      "metadata": {
        "id": "ca3LduXhbsFW"
      }
    },
    {
      "cell_type": "markdown",
      "source": [
        "### Import et stockage"
      ],
      "metadata": {
        "id": "0Rc3iu5nRQ1A"
      }
    },
    {
      "cell_type": "code",
      "source": [
        "# Pour lire les fichiers .csv (beaucoup de jeux de données classiques sont en .csv, format que l'on peut ouvrir avec Excel, par exemple)\n",
        "from pandas import read_csv\n",
        "\n",
        "# Pour faire un beau graphique \n",
        "from matplotlib import pyplot\n",
        "\n",
        "# On récupère le jeu de données, en expliquant celui qu'on veut, s'il possède des entêtes (ici, aucune), la colonne qui sert d'index, c'est-à-dire de référence, du style un numéro unique, comme les clés en BDD... (ici, la première colonne, donc 0, sert d'index)\n",
        "#series = read_csv('airline-passengers.csv', header = 0, index_col = 0)\n",
        "series = read_csv('https://raw.githubusercontent.com/jbrownlee/Datasets/master/airline-passengers.csv', header = 0, index_col = 0)\n",
        "\n",
        "# On stock les valeurs de la série qu'on vient d'importer dans une variable \"values\"\n",
        "values = series.values\n"
      ],
      "metadata": {
        "id": "r0tlRFq7ZM6p"
      },
      "execution_count": null,
      "outputs": []
    },
    {
      "cell_type": "markdown",
      "source": [
        "### Visualisation\n",
        "\n",
        "*On représente graphiquement ces fameuses valeurs pour voir ce que ça donne, ça permet d'orienter les traitements et analyses possibles*"
      ],
      "metadata": {
        "id": "qTIyYXrmJzRh"
      }
    },
    {
      "cell_type": "code",
      "source": [
        "# On lui dit ce qu'on prend à représenter (ici, values qu'on vient de créer)\n",
        "pyplot.plot(values)\n",
        "\n",
        "# On affiche ce graphique\n",
        "pyplot.show()"
      ],
      "metadata": {
        "id": "yJ_skJdUJ5de",
        "colab": {
          "base_uri": "https://localhost:8080/",
          "height": 265
        },
        "outputId": "31974963-7171-41df-d11c-c5bc77038b97"
      },
      "execution_count": null,
      "outputs": [
        {
          "output_type": "display_data",
          "data": {
            "text/plain": [
              "<Figure size 432x288 with 1 Axes>"
            ],
            "image/png": "[encoded data removed]"
          },
          "metadata": {
            "needs_background": "light"
          }
        }
      ]
    },
    {
      "cell_type": "markdown",
      "source": [
        "## Prédiction des naissances mensuelles en Random Forest"
      ],
      "metadata": {
        "id": "PqTBomY8Jewt"
      }
    },
    {
      "cell_type": "markdown",
      "source": [
        "### Librairies"
      ],
      "metadata": {
        "id": "D5jPZ2wlRMU6"
      }
    },
    {
      "cell_type": "code",
      "source": [
        "#Pour convertir les données d'un tableau (bien pratique quand elles sont pas toujours saisies comme on le voudrait): https://fr.acervolima.com/numpy-asarray-en-python/\n",
        "from numpy import asarray\n",
        "\n",
        "# Pour lire les fichiers .csv (beaucoup de jeux de données classiques sont en .csv, format que l'on peut ouvrir avec Excel, par exemple)\n",
        "from pandas import read_csv\n",
        "\n",
        "# Ce sont des tableaux bien pratiques, sur lesquels on peut effectuer un grand nombre de manipulations : http://www.python-simple.com/python-pandas/creation-dataframes.php\n",
        "from pandas import DataFrame\n",
        "\n",
        "# Permet de concatener des séries d'un DF, par exemple : https://fr.acervolima.com/fonction-pandas-concat-en-python/\n",
        "from pandas import concat\n",
        "\n",
        "# Pour réaliser une régression en Random Forest : https://scikit-learn.org/stable/modules/generated/sklearn.ensemble.RandomForestRegressor.html (sorry en anglais)\n",
        "from sklearn.ensemble import RandomForestRegressor\n",
        " "
      ],
      "metadata": {
        "id": "OaZf8vxBKncZ"
      },
      "execution_count": null,
      "outputs": []
    },
    {
      "cell_type": "markdown",
      "source": [
        "### Données\n",
        "*On transforme le jeu de données temporelles en un jeu de données pour apprentissage supervisé (on lui donne les réponses qu'il est sensé obtenir)*"
      ],
      "metadata": {
        "id": "6JnWEUw3Ktb_"
      }
    },
    {
      "cell_type": "markdown",
      "source": [
        "\n",
        "#### Fonction\n",
        "*On crée une fonction pour traiter les données*\n"
      ],
      "metadata": {
        "id": "nqdXdZa8RI5J"
      }
    },
    {
      "cell_type": "code",
      "metadata": {
        "id": "3DVFLzw-GlOA"
      },
      "source": [
        "def series_to_supervised(data, n_in=1, n_out=1, dropnan=True):\n",
        "\t# Si on met en entrée une liste, n_vars prend 1, sinon ça prend la valeur 2ème valeur de data.shape (on indexe à partir de 0) qui donne le nombre de lignes [0] puis colonnes [1] : https://courspython.com/tableaux.html\n",
        "\tn_vars = 1 if type(data) is list else data.shape[1]\n",
        "\t# On stock les données dans un tableau qu'on nomme df (classique pour les dataframes) : \n",
        "\tdf = DataFrame(data)\n",
        "\t# On créer une liste vide qu'on nomme cols\n",
        "\tcols = list()\n",
        " \n",
        "\t# Séquence d'entrée (t-n, ... t-1) : boucle de celles qu'on connaît déjà, donc jusqu'à l'instant t exclu\n",
        "\tfor i in range(n_in, 0, -1):\n",
        "\t\t# On ajoute à la liste l'index concerné, shift permet de décaler l'index du tableau : https://www.delftstack.com/fr/api/python-pandas/pandas-dataframe-dataframe.shift-function/\n",
        "\t\tcols.append(df.shift(i))\n",
        "\t\n",
        "\t# Séquence de prédiction (t, t+1, ... t+n) : boucle de celles qu'on prédit, donc à partir de l'instant t\n",
        "\tfor i in range(0, n_out):\n",
        "\t\t# De même, mais en prenant l'opposé\n",
        "\t\tcols.append(df.shift(-i))\n",
        "\t\n",
        "\t# On les concatène avec la fonction vue plus haut\n",
        "\tagg = concat(cols, axis=1)\n",
        "\t\n",
        "\t# On retire les lignes vides (pratique quand on a des jeux de données incomplets notamment)\n",
        "\tif dropnan:\n",
        "\t\tagg.dropna(inplace=True)\n",
        "\t\n",
        "\t# On ressort les valeurs restantes\n",
        "\treturn agg.values\n"
      ],
      "execution_count": null,
      "outputs": []
    },
    {
      "cell_type": "markdown",
      "source": [
        "#### Chargement et stockage"
      ],
      "metadata": {
        "id": "1QZD1Fh4L2aq"
      }
    },
    {
      "cell_type": "code",
      "source": [
        "# On charge les données (le fameux csv) en indiquant qu'on a pas d'entête et que l'index (référence) est la première colonne (la 0)\n",
        "#series = read_csv('daily-max-temperatures.csv', header=0, index_col=0)\n",
        "series = read_csv('https://raw.githubusercontent.com/jbrownlee/Datasets/master/daily-max-temperatures.csv', header=0, index_col=0)\n",
        "\n",
        "# On stocke les valeurs dans une variable data\n",
        "data = series.values"
      ],
      "metadata": {
        "id": "LqGmTJ7jL3Ai"
      },
      "execution_count": null,
      "outputs": []
    },
    {
      "cell_type": "markdown",
      "source": [
        "### Prédiction"
      ],
      "metadata": {
        "id": "c6Cyn4KgKzGQ"
      }
    },
    {
      "cell_type": "markdown",
      "source": [
        "#### Préparation du jeu de données"
      ],
      "metadata": {
        "id": "Um9uH1gbSR5V"
      }
    },
    {
      "cell_type": "code",
      "source": [
        "# On fixe le nombre de tests du modèle à 100\n",
        "n_test = 100\n",
        "\n",
        "# On divise le jeu de données en deux parties : celui qui sert à s'entraîner / apprendre, et celui qui sert à se tester selon le nombre de tests qu'on a défini (n_test)\n",
        "# On crée la fonction\n",
        "def train_test_split(data, n_test):\n",
        "\treturn data[:-n_test, :], data[-n_test:, :]\n",
        "\n",
        "# On applique la fonction à notre jeu de données\n",
        "train, test = train_test_split(data,n_test) "
      ],
      "metadata": {
        "id": "RZgjTfE4K3DU"
      },
      "execution_count": null,
      "outputs": []
    },
    {
      "cell_type": "markdown",
      "source": [
        "#### Apprentissage\n"
      ],
      "metadata": {
        "id": "kPS4tnYmMqyJ"
      }
    },
    {
      "cell_type": "code",
      "source": [
        "# On transforme le jeu de données temporelles en un jeu de données pour apprentissage supervisé\n",
        "Train = series_to_supervised(train, n_in=6)\n",
        "\n",
        "# On sépare en colonnes d'entrée et de sortie (question / réponse)\n",
        "X_train, y_train = Train[:, :-1], Train[:, -1]"
      ],
      "metadata": {
        "id": "rHWLltZNMriw"
      },
      "execution_count": null,
      "outputs": []
    },
    {
      "cell_type": "markdown",
      "metadata": {
        "id": "OEbYN1ljGlOG"
      },
      "source": [
        "## Quantile Gradient Boosting"
      ]
    },
    {
      "cell_type": "markdown",
      "source": [
        "### Entraînement"
      ],
      "metadata": {
        "id": "_IQ1WhUqM2Fe"
      }
    },
    {
      "cell_type": "code",
      "source": [
        "# On transforme le jeu de données temporelles en un jeu de données pour apprentissage supervisé\n",
        "Test = series_to_supervised(test, n_in=6)\n",
        "\n",
        "# On sépare en colonnes d'entrée et de sortie (question / réponse)\n",
        "X_test, y_test = Test[:, :-1], Test[:, -1]"
      ],
      "metadata": {
        "id": "WvZ2-_U4M4oc"
      },
      "execution_count": null,
      "outputs": []
    },
    {
      "cell_type": "markdown",
      "source": [
        "### Modèle"
      ],
      "metadata": {
        "id": "k7wbObPlM8X9"
      }
    },
    {
      "cell_type": "code",
      "source": [
        "# On crée le modèle de régression en Random Forest\n",
        "model = RandomForestRegressor(n_estimators=1000)\n",
        "\n",
        "# On le remplit avec les données d'entraînement : https://leandeep.com/commandes-python-de-base-pour-sklearn-régression-classification-régularisation/\n",
        "model.fit(X_train, y_train)"
      ],
      "metadata": {
        "id": "dLsqMbXKM_BQ",
        "colab": {
          "base_uri": "https://localhost:8080/"
        },
        "outputId": "db35b232-7d77-4680-e9e5-3b77e64377d8"
      },
      "execution_count": null,
      "outputs": [
        {
          "output_type": "execute_result",
          "data": {
            "text/plain": [
              "RandomForestRegressor(n_estimators=1000)"
            ]
          },
          "metadata": {},
          "execution_count": 10
        }
      ]
    },
    {
      "cell_type": "markdown",
      "source": [
        "### Prédiction"
      ],
      "metadata": {
        "id": "ygL0cJxENB_x"
      }
    },
    {
      "cell_type": "code",
      "source": [
        "# On crée une variable pour les nouvelles prédictions \n",
        "row = values[-6:].flatten()\n",
        "\n",
        "# Prédiction en one-step\n",
        "yhat = model.predict(asarray([row]))\n",
        "print('Input: %s, Predicted: %.3f' % (row, yhat[0]))"
      ],
      "metadata": {
        "id": "tdvIM-ZPND8j",
        "colab": {
          "base_uri": "https://localhost:8080/"
        },
        "outputId": "23c36a5a-a58f-4020-883b-56eece3c344f"
      },
      "execution_count": null,
      "outputs": [
        {
          "output_type": "stream",
          "name": "stdout",
          "text": [
            "Input: [622 606 508 461 390 432], Predicted: 31.281\n"
          ]
        }
      ]
    },
    {
      "cell_type": "markdown",
      "source": [
        "### Régression\n"
      ],
      "metadata": {
        "id": "lZ9NsA0sOUUD"
      }
    },
    {
      "cell_type": "markdown",
      "source": [
        "#### Librairies & quantiles"
      ],
      "metadata": {
        "id": "Tv8ONOaUy1Uw"
      }
    },
    {
      "cell_type": "code",
      "metadata": {
        "id": "Sk5f38aBGlOH"
      },
      "source": [
        "# Pour réaliser une régression en Gradient Boosting : https://scikit-learn.org/stable/auto_examples/ensemble/plot_gradient_boosting_regression.html (sorry toujours celui en anglais)\n",
        "from sklearn.ensemble import GradientBoostingRegressor\n",
        "\n",
        "# On crée une variable avec les quantiles classiques \n",
        "quantiles = [0.01, 0.05, 0.50, 0.95 , 0.99]"
      ],
      "execution_count": null,
      "outputs": []
    },
    {
      "cell_type": "markdown",
      "source": [
        "#### Fonction pour le Gradient Boosting"
      ],
      "metadata": {
        "id": "soh2NMJfOqav"
      }
    },
    {
      "cell_type": "code",
      "source": [
        "# Faire le modèle et les prédictions en (a) - (b)\n",
        "def GBM(q):\n",
        "    \n",
        "   # (a) Modèle  \n",
        "   mod = GradientBoostingRegressor(loss='quantile', alpha=q,\n",
        "                                n_estimators=500, max_depth=8,\n",
        "                                learning_rate=.01, min_samples_leaf=20,\n",
        "                                min_samples_split=20)\n",
        "   # On le remplit\n",
        "   mod.fit(X_train, y_train)\n",
        "\n",
        "   # (b) Prédictions\n",
        "   pred = pd.Series(mod.predict(X_test).round(2))\n",
        "   \n",
        "   # La fonction ressort les prédictions et le modèles créés\n",
        "   return pred, mod"
      ],
      "metadata": {
        "id": "P5guG-MoOsYB"
      },
      "execution_count": null,
      "outputs": []
    },
    {
      "cell_type": "markdown",
      "source": [
        "#### Modèle & prédiction"
      ],
      "metadata": {
        "id": "UqWCyvolPCcl"
      }
    },
    {
      "cell_type": "code",
      "source": [
        "# On crée une liste pour les modèles\n",
        "GBM_models=[]\n",
        "# On crée un dataframe pour les prédictions\n",
        "GBM_actual_pred = pd.DataFrame()\n",
        "\n",
        "# On remplit ces listes des modèles et prédictions pour chaque quantiles grâce à la fonction définie au-dessus\n",
        "for q in quantiles:\n",
        "    pred , model = GBM(q)\n",
        "    GBM_models.append(model)\n",
        "    GBM_actual_pred = pd.concat([GBM_actual_pred,pred],axis=1)\n",
        "\n",
        "# On ajoute des colonnes au dataframe des prédictions\n",
        "# On en crée une avec les quantiles\n",
        "GBM_actual_pred.columns=quantiles\n",
        "\n",
        "# On en crée une avec les données de tests\n",
        "GBM_actual_pred['actual'] = y_test\n",
        "\n",
        "# On en crée une en comparant les quantiles\n",
        "GBM_actual_pred['interval'] = GBM_actual_pred[np.max(quantiles)] - GBM_actual_pred[np.min(quantiles)]\n",
        "\n",
        "# On en crée une en organisant les valeurs de la colonne 'interval' selon leurs valeurs\n",
        "GBM_actual_pred = GBM_actual_pred.sort_values('interval')\n",
        "\n",
        "# On affiche le dataframe\n",
        "GBM_actual_pred"
      ],
      "metadata": {
        "colab": {
          "base_uri": "https://localhost:8080/",
          "height": 423
        },
        "id": "ZcyflQaMPFLw",
        "outputId": "d2bdd816-918a-46b3-df75-1e7ad70403f2"
      },
      "execution_count": null,
      "outputs": [
        {
          "output_type": "execute_result",
          "data": {
            "text/plain": [
              "     0.01   0.05    0.5   0.95   0.99  actual  interval\n",
              "24  13.96  14.36  17.71  21.03  22.75    16.8      8.79\n",
              "23  13.76  13.99  16.66  20.17  23.20    16.0      9.44\n",
              "14  11.01  12.37  15.27  18.03  20.55    18.9      9.54\n",
              "8   12.15  12.64  15.88  19.21  22.13    15.3      9.98\n",
              "11  12.64  14.56  17.73  21.52  22.68    20.8     10.04\n",
              "..    ...    ...    ...    ...    ...     ...       ...\n",
              "67  16.54  19.19  25.43  38.55  38.77    36.9     22.23\n",
              "91  15.85  17.97  22.00  33.89  38.38    25.1     22.53\n",
              "39  16.84  18.89  25.45  35.93  39.88    32.6     23.04\n",
              "90  16.82  18.97  28.91  38.22  40.08    23.2     23.26\n",
              "68  16.72  18.78  25.80  38.60  40.18    33.2     23.46\n",
              "\n",
              "[94 rows x 7 columns]"
            ],
            "text/html": [
              "\n",
              "  <div id=\"df-d8d79cd8-0968-4730-9ab8-f16b1b3f4d52\">\n",
              "    <div class=\"colab-df-container\">\n",
              "      <div>\n",
              "<style scoped>\n",
              "    .dataframe tbody tr th:only-of-type {\n",
              "        vertical-align: middle;\n",
              "    }\n",
              "\n",
              "    .dataframe tbody tr th {\n",
              "        vertical-align: top;\n",
              "    }\n",
              "\n",
              "    .dataframe thead th {\n",
              "        text-align: right;\n",
              "    }\n",
              "</style>\n",
              "<table border=\"1\" class=\"dataframe\">\n",
              "  <thead>\n",
              "    <tr style=\"text-align: right;\">\n",
              "      <th></th>\n",
              "      <th>0.01</th>\n",
              "      <th>0.05</th>\n",
              "      <th>0.5</th>\n",
              "      <th>0.95</th>\n",
              "      <th>0.99</th>\n",
              "      <th>actual</th>\n",
              "      <th>interval</th>\n",
              "    </tr>\n",
              "  </thead>\n",
              "  <tbody>\n",
              "    <tr>\n",
              "      <th>24</th>\n",
              "      <td>13.96</td>\n",
              "      <td>14.36</td>\n",
              "      <td>17.71</td>\n",
              "      <td>21.03</td>\n",
              "      <td>22.75</td>\n",
              "      <td>16.8</td>\n",
              "      <td>8.79</td>\n",
              "    </tr>\n",
              "    <tr>\n",
              "      <th>23</th>\n",
              "      <td>13.76</td>\n",
              "      <td>13.99</td>\n",
              "      <td>16.66</td>\n",
              "      <td>20.17</td>\n",
              "      <td>23.20</td>\n",
              "      <td>16.0</td>\n",
              "      <td>9.44</td>\n",
              "    </tr>\n",
              "    <tr>\n",
              "      <th>14</th>\n",
              "      <td>11.01</td>\n",
              "      <td>12.37</td>\n",
              "      <td>15.27</td>\n",
              "      <td>18.03</td>\n",
              "      <td>20.55</td>\n",
              "      <td>18.9</td>\n",
              "      <td>9.54</td>\n",
              "    </tr>\n",
              "    <tr>\n",
              "      <th>8</th>\n",
              "      <td>12.15</td>\n",
              "      <td>12.64</td>\n",
              "      <td>15.88</td>\n",
              "      <td>19.21</td>\n",
              "      <td>22.13</td>\n",
              "      <td>15.3</td>\n",
              "      <td>9.98</td>\n",
              "    </tr>\n",
              "    <tr>\n",
              "      <th>11</th>\n",
              "      <td>12.64</td>\n",
              "      <td>14.56</td>\n",
              "      <td>17.73</td>\n",
              "      <td>21.52</td>\n",
              "      <td>22.68</td>\n",
              "      <td>20.8</td>\n",
              "      <td>10.04</td>\n",
              "    </tr>\n",
              "    <tr>\n",
              "      <th>...</th>\n",
              "      <td>...</td>\n",
              "      <td>...</td>\n",
              "      <td>...</td>\n",
              "      <td>...</td>\n",
              "      <td>...</td>\n",
              "      <td>...</td>\n",
              "      <td>...</td>\n",
              "    </tr>\n",
              "    <tr>\n",
              "      <th>67</th>\n",
              "      <td>16.54</td>\n",
              "      <td>19.19</td>\n",
              "      <td>25.43</td>\n",
              "      <td>38.55</td>\n",
              "      <td>38.77</td>\n",
              "      <td>36.9</td>\n",
              "      <td>22.23</td>\n",
              "    </tr>\n",
              "    <tr>\n",
              "      <th>91</th>\n",
              "      <td>15.85</td>\n",
              "      <td>17.97</td>\n",
              "      <td>22.00</td>\n",
              "      <td>33.89</td>\n",
              "      <td>38.38</td>\n",
              "      <td>25.1</td>\n",
              "      <td>22.53</td>\n",
              "    </tr>\n",
              "    <tr>\n",
              "      <th>39</th>\n",
              "      <td>16.84</td>\n",
              "      <td>18.89</td>\n",
              "      <td>25.45</td>\n",
              "      <td>35.93</td>\n",
              "      <td>39.88</td>\n",
              "      <td>32.6</td>\n",
              "      <td>23.04</td>\n",
              "    </tr>\n",
              "    <tr>\n",
              "      <th>90</th>\n",
              "      <td>16.82</td>\n",
              "      <td>18.97</td>\n",
              "      <td>28.91</td>\n",
              "      <td>38.22</td>\n",
              "      <td>40.08</td>\n",
              "      <td>23.2</td>\n",
              "      <td>23.26</td>\n",
              "    </tr>\n",
              "    <tr>\n",
              "      <th>68</th>\n",
              "      <td>16.72</td>\n",
              "      <td>18.78</td>\n",
              "      <td>25.80</td>\n",
              "      <td>38.60</td>\n",
              "      <td>40.18</td>\n",
              "      <td>33.2</td>\n",
              "      <td>23.46</td>\n",
              "    </tr>\n",
              "  </tbody>\n",
              "</table>\n",
              "<p>94 rows × 7 columns</p>\n",
              "</div>\n",
              "      <button class=\"colab-df-convert\" onclick=\"convertToInteractive('df-d8d79cd8-0968-4730-9ab8-f16b1b3f4d52')\"\n",
              "              title=\"Convert this dataframe to an interactive table.\"\n",
              "              style=\"display:none;\">\n",
              "        \n",
              "  <svg xmlns=\"http://www.w3.org/2000/svg\" height=\"24px\"viewBox=\"0 0 24 24\"\n",
              "       width=\"24px\">\n",
              "    <path d=\"M0 0h24v24H0V0z\" fill=\"none\"/>\n",
              "    <path d=\"M18.56 5.44l.94 2.06.94-2.06 2.06-.94-2.06-.94-.94-2.06-.94 2.06-2.06.94zm-11 1L8.5 8.5l.94-2.06 2.06-.94-2.06-.94L8.5 2.5l-.94 2.06-2.06.94zm10 10l.94 2.06.94-2.06 2.06-.94-2.06-.94-.94-2.06-.94 2.06-2.06.94z\"/><path d=\"M17.41 7.96l-1.37-1.37c-.4-.4-.92-.59-1.43-.59-.52 0-1.04.2-1.43.59L10.3 9.45l-7.72 7.72c-.78.78-.78 2.05 0 2.83L4 21.41c.39.39.9.59 1.41.59.51 0 1.02-.2 1.41-.59l7.78-7.78 2.81-2.81c.8-.78.8-2.07 0-2.86zM5.41 20L4 18.59l7.72-7.72 1.47 1.35L5.41 20z\"/>\n",
              "  </svg>\n",
              "      </button>\n",
              "      \n",
              "  <style>\n",
              "    .colab-df-container {\n",
              "      display:flex;\n",
              "      flex-wrap:wrap;\n",
              "      gap: 12px;\n",
              "    }\n",
              "\n",
              "    .colab-df-convert {\n",
              "      background-color: #E8F0FE;\n",
              "      border: none;\n",
              "      border-radius: 50%;\n",
              "      cursor: pointer;\n",
              "      display: none;\n",
              "      fill: #1967D2;\n",
              "      height: 32px;\n",
              "      padding: 0 0 0 0;\n",
              "      width: 32px;\n",
              "    }\n",
              "\n",
              "    .colab-df-convert:hover {\n",
              "      background-color: #E2EBFA;\n",
              "      box-shadow: 0px 1px 2px rgba(60, 64, 67, 0.3), 0px 1px 3px 1px rgba(60, 64, 67, 0.15);\n",
              "      fill: #174EA6;\n",
              "    }\n",
              "\n",
              "    [theme=dark] .colab-df-convert {\n",
              "      background-color: #3B4455;\n",
              "      fill: #D2E3FC;\n",
              "    }\n",
              "\n",
              "    [theme=dark] .colab-df-convert:hover {\n",
              "      background-color: #434B5C;\n",
              "      box-shadow: 0px 1px 3px 1px rgba(0, 0, 0, 0.15);\n",
              "      filter: drop-shadow(0px 1px 2px rgba(0, 0, 0, 0.3));\n",
              "      fill: #FFFFFF;\n",
              "    }\n",
              "  </style>\n",
              "\n",
              "      <script>\n",
              "        const buttonEl =\n",
              "          document.querySelector('#df-d8d79cd8-0968-4730-9ab8-f16b1b3f4d52 button.colab-df-convert');\n",
              "        buttonEl.style.display =\n",
              "          google.colab.kernel.accessAllowed ? 'block' : 'none';\n",
              "\n",
              "        async function convertToInteractive(key) {\n",
              "          const element = document.querySelector('#df-d8d79cd8-0968-4730-9ab8-f16b1b3f4d52');\n",
              "          const dataTable =\n",
              "            await google.colab.kernel.invokeFunction('convertToInteractive',\n",
              "                                                     [key], {});\n",
              "          if (!dataTable) return;\n",
              "\n",
              "          const docLinkHtml = 'Like what you see? Visit the ' +\n",
              "            '<a target=\"_blank\" href=https://colab.research.google.com/notebooks/data_table.ipynb>data table notebook</a>'\n",
              "            + ' to learn more about interactive tables.';\n",
              "          element.innerHTML = '';\n",
              "          dataTable['output_type'] = 'display_data';\n",
              "          await google.colab.output.renderOutput(dataTable, element);\n",
              "          const docLink = document.createElement('div');\n",
              "          docLink.innerHTML = docLinkHtml;\n",
              "          element.appendChild(docLink);\n",
              "        }\n",
              "      </script>\n",
              "    </div>\n",
              "  </div>\n",
              "  "
            ]
          },
          "metadata": {},
          "execution_count": 14
        }
      ]
    },
    {
      "cell_type": "markdown",
      "source": [
        "#### Visualisation"
      ],
      "metadata": {
        "id": "PdyUf46sPXiZ"
      }
    },
    {
      "cell_type": "code",
      "metadata": {
        "id": "yBpcCI-_GlOJ",
        "outputId": "4128f756-6289-484f-c03d-3827f97b53fb",
        "colab": {
          "base_uri": "https://localhost:8080/",
          "height": 283
        }
      },
      "source": [
        "# On prépare, légende, échelonne et affiche le graphique\n",
        "plt.plot(GBM_actual_pred['actual'],'go',markersize=3,label='Actual')\n",
        "\n",
        "plt.fill_between(\n",
        "    np.arange(GBM_actual_pred.shape[0]), GBM_actual_pred[0.01], GBM_actual_pred[0.99], alpha=0.5, color=\"r\",\n",
        "    label=\"Predicted interval\")\n",
        "\n",
        "# Nom des axes\n",
        "plt.xlabel(\"Ordered samples.\")\n",
        "plt.ylabel(\"Values and prediction intervals.\")\n",
        "\n",
        "# Graduation des axes\n",
        "plt.xlim([0, 100])\n",
        "plt.ylim([20, 60])\n",
        "\n",
        "# Légende\n",
        "plt.legend()\n",
        "\n",
        "# Affichage\n",
        "plt.show()"
      ],
      "execution_count": null,
      "outputs": [
        {
          "output_type": "display_data",
          "data": {
            "text/plain": [
              "<Figure size 432x288 with 1 Axes>"
            ],
            "image/png": "[encoded data removed]"
          },
          "metadata": {
            "needs_background": "light"
          }
        }
      ]
    },
    {
      "cell_type": "markdown",
      "source": [
        "#### Perfomance"
      ],
      "metadata": {
        "id": "P4CDeqw9PQB-"
      }
    },
    {
      "cell_type": "code",
      "metadata": {
        "id": "yxhe4VhdGlOI",
        "outputId": "d8cd153a-0fba-4031-b766-1862491a03ac",
        "colab": {
          "base_uri": "https://localhost:8080/"
        }
      },
      "source": [
        "# On calcule le R2 du modèle (à quel point le modèle explique la variance)\n",
        "r2 = metrics.r2_score(GBM_actual_pred['actual'], GBM_actual_pred[0.5]).round(2)\n",
        "\n",
        "# On l'affiche\n",
        "print('R2 score is {}'.format(r2))"
      ],
      "execution_count": null,
      "outputs": [
        {
          "output_type": "stream",
          "name": "stdout",
          "text": [
            "R2 score is 0.15\n"
          ]
        }
      ]
    },
    {
      "cell_type": "markdown",
      "source": [
        "#### Prédictions correctes"
      ],
      "metadata": {
        "id": "r8mwJLRhPeka"
      }
    },
    {
      "cell_type": "code",
      "metadata": {
        "id": "8DxRaO88GlOJ",
        "outputId": "f1f6017b-7463-4bb6-c4fc-e9c84dd74ff6",
        "colab": {
          "base_uri": "https://localhost:8080/"
        }
      },
      "source": [
        "# On crée une fonction pour compter le taux de prédictions correctes\n",
        "def correctPcnt(actual_pred):\n",
        "    correct = 0\n",
        "    for i in range(actual_pred.shape[0]):\n",
        "        if actual_pred.loc[i,0.01] <= actual_pred.loc[i,'actual'] <= actual_pred.loc[i,0.99]:\n",
        "            correct += 1\n",
        "    print(correct/len(y_test))\n",
        "    \n",
        "# On l'applique à notre fameux dataframe qui nous sort le taux de prédictions correctes  \n",
        "correctPcnt(GBM_actual_pred)"
      ],
      "execution_count": null,
      "outputs": [
        {
          "output_type": "stream",
          "name": "stdout",
          "text": [
            "0.9574468085106383\n"
          ]
        }
      ]
    },
    {
      "cell_type": "markdown",
      "metadata": {
        "id": "2NIqvivNGlOK"
      },
      "source": [
        "## Quantile Random Forests"
      ]
    },
    {
      "cell_type": "markdown",
      "source": [
        "### Régression\n"
      ],
      "metadata": {
        "id": "4mHjpz8xR60V"
      }
    },
    {
      "cell_type": "markdown",
      "source": [
        "#### Librairies & quantiles"
      ],
      "metadata": {
        "id": "Y2eeF_G9R780"
      }
    },
    {
      "cell_type": "code",
      "metadata": {
        "id": "r1hH-ZThGlOL",
        "outputId": "6c3e486d-cde3-4552-f770-5b680f2d71c6",
        "colab": {
          "base_uri": "https://localhost:8080/"
        }
      },
      "source": [
        "# Pour réaliser une régression en Random Forest\n",
        "from sklearn.ensemble import RandomForestRegressor\n",
        "rf = RandomForestRegressor(n_estimators=200, random_state=0,min_samples_split=10)\n",
        "\n",
        "# On remplit le modèle\n",
        "rf.fit(X_train, y_train)"
      ],
      "execution_count": null,
      "outputs": [
        {
          "output_type": "execute_result",
          "data": {
            "text/plain": [
              "RandomForestRegressor(min_samples_split=10, n_estimators=200, random_state=0)"
            ]
          },
          "metadata": {},
          "execution_count": 18
        }
      ]
    },
    {
      "cell_type": "markdown",
      "source": [
        "#### Modèle & prédictions"
      ],
      "metadata": {
        "id": "sMjdCzyaP_JH"
      }
    },
    {
      "cell_type": "code",
      "metadata": {
        "id": "RT9XPF0fGlOL",
        "outputId": "741748b2-2a0b-47de-dd95-a4673a48d7ec",
        "colab": {
          "base_uri": "https://localhost:8080/",
          "height": 299
        }
      },
      "source": [
        "# On récupère les prédictions de tous les arbres pour toutes les observations dans un dataframe\n",
        "pred_Q = pd.DataFrame()\n",
        "\n",
        "for pred in rf.estimators_:\n",
        "    temp = pd.Series(pred.predict(X_test).round(2))\n",
        "    pred_Q = pd.concat([pred_Q,temp],axis=1)\n",
        "\n",
        "# Chaque observation possède N prédictions des N arbres\n",
        "# On affiche les premières valeurs\n",
        "pred_Q.head()"
      ],
      "execution_count": null,
      "outputs": [
        {
          "output_type": "execute_result",
          "data": {
            "text/plain": [
              "       0      0      0      0      0      0      0      0      0      0  ...  \\\n",
              "0  16.01  17.73  15.50  19.12  15.99  16.63  16.37  15.50  18.92  19.72  ...   \n",
              "1  15.91  17.73  19.87  17.05  19.46  15.38  16.10  18.72  17.88  15.30  ...   \n",
              "2  19.23  16.15  21.32  24.06  21.57  20.25  24.22  18.66  19.32  25.24  ...   \n",
              "3  15.12  21.14  17.44  22.41  18.76  24.09  17.19  26.19  18.97  27.32  ...   \n",
              "4  14.44  17.29  16.96  16.55  16.32  13.63  16.40  15.94  18.45  17.19  ...   \n",
              "\n",
              "       0      0      0      0      0      0      0      0      0      0  \n",
              "0  22.10  19.52  17.99  18.31  18.03  18.40  18.37  18.72  18.86  18.35  \n",
              "1  15.42  14.50  18.42  18.31  16.73  20.92  14.68  18.72  18.50  16.29  \n",
              "2  18.66  16.77  24.94  16.90  24.10  24.30  19.24  24.01  32.80  16.40  \n",
              "3  19.46  16.77  19.51  24.25  17.33  15.62  19.29  22.23  20.69  24.28  \n",
              "4  15.30  14.54  16.70  16.09  16.25  16.36  16.53  17.44  12.15  16.64  \n",
              "\n",
              "[5 rows x 200 columns]"
            ],
            "text/html": [
              "\n",
              "  <div id=\"df-058bf8e9-b373-4de3-b1eb-b14fcde752ab\">\n",
              "    <div class=\"colab-df-container\">\n",
              "      <div>\n",
              "<style scoped>\n",
              "    .dataframe tbody tr th:only-of-type {\n",
              "        vertical-align: middle;\n",
              "    }\n",
              "\n",
              "    .dataframe tbody tr th {\n",
              "        vertical-align: top;\n",
              "    }\n",
              "\n",
              "    .dataframe thead th {\n",
              "        text-align: right;\n",
              "    }\n",
              "</style>\n",
              "<table border=\"1\" class=\"dataframe\">\n",
              "  <thead>\n",
              "    <tr style=\"text-align: right;\">\n",
              "      <th></th>\n",
              "      <th>0</th>\n",
              "      <th>0</th>\n",
              "      <th>0</th>\n",
              "      <th>0</th>\n",
              "      <th>0</th>\n",
              "      <th>0</th>\n",
              "      <th>0</th>\n",
              "      <th>0</th>\n",
              "      <th>0</th>\n",
              "      <th>0</th>\n",
              "      <th>...</th>\n",
              "      <th>0</th>\n",
              "      <th>0</th>\n",
              "      <th>0</th>\n",
              "      <th>0</th>\n",
              "      <th>0</th>\n",
              "      <th>0</th>\n",
              "      <th>0</th>\n",
              "      <th>0</th>\n",
              "      <th>0</th>\n",
              "      <th>0</th>\n",
              "    </tr>\n",
              "  </thead>\n",
              "  <tbody>\n",
              "    <tr>\n",
              "      <th>0</th>\n",
              "      <td>16.01</td>\n",
              "      <td>17.73</td>\n",
              "      <td>15.50</td>\n",
              "      <td>19.12</td>\n",
              "      <td>15.99</td>\n",
              "      <td>16.63</td>\n",
              "      <td>16.37</td>\n",
              "      <td>15.50</td>\n",
              "      <td>18.92</td>\n",
              "      <td>19.72</td>\n",
              "      <td>...</td>\n",
              "      <td>22.10</td>\n",
              "      <td>19.52</td>\n",
              "      <td>17.99</td>\n",
              "      <td>18.31</td>\n",
              "      <td>18.03</td>\n",
              "      <td>18.40</td>\n",
              "      <td>18.37</td>\n",
              "      <td>18.72</td>\n",
              "      <td>18.86</td>\n",
              "      <td>18.35</td>\n",
              "    </tr>\n",
              "    <tr>\n",
              "      <th>1</th>\n",
              "      <td>15.91</td>\n",
              "      <td>17.73</td>\n",
              "      <td>19.87</td>\n",
              "      <td>17.05</td>\n",
              "      <td>19.46</td>\n",
              "      <td>15.38</td>\n",
              "      <td>16.10</td>\n",
              "      <td>18.72</td>\n",
              "      <td>17.88</td>\n",
              "      <td>15.30</td>\n",
              "      <td>...</td>\n",
              "      <td>15.42</td>\n",
              "      <td>14.50</td>\n",
              "      <td>18.42</td>\n",
              "      <td>18.31</td>\n",
              "      <td>16.73</td>\n",
              "      <td>20.92</td>\n",
              "      <td>14.68</td>\n",
              "      <td>18.72</td>\n",
              "      <td>18.50</td>\n",
              "      <td>16.29</td>\n",
              "    </tr>\n",
              "    <tr>\n",
              "      <th>2</th>\n",
              "      <td>19.23</td>\n",
              "      <td>16.15</td>\n",
              "      <td>21.32</td>\n",
              "      <td>24.06</td>\n",
              "      <td>21.57</td>\n",
              "      <td>20.25</td>\n",
              "      <td>24.22</td>\n",
              "      <td>18.66</td>\n",
              "      <td>19.32</td>\n",
              "      <td>25.24</td>\n",
              "      <td>...</td>\n",
              "      <td>18.66</td>\n",
              "      <td>16.77</td>\n",
              "      <td>24.94</td>\n",
              "      <td>16.90</td>\n",
              "      <td>24.10</td>\n",
              "      <td>24.30</td>\n",
              "      <td>19.24</td>\n",
              "      <td>24.01</td>\n",
              "      <td>32.80</td>\n",
              "      <td>16.40</td>\n",
              "    </tr>\n",
              "    <tr>\n",
              "      <th>3</th>\n",
              "      <td>15.12</td>\n",
              "      <td>21.14</td>\n",
              "      <td>17.44</td>\n",
              "      <td>22.41</td>\n",
              "      <td>18.76</td>\n",
              "      <td>24.09</td>\n",
              "      <td>17.19</td>\n",
              "      <td>26.19</td>\n",
              "      <td>18.97</td>\n",
              "      <td>27.32</td>\n",
              "      <td>...</td>\n",
              "      <td>19.46</td>\n",
              "      <td>16.77</td>\n",
              "      <td>19.51</td>\n",
              "      <td>24.25</td>\n",
              "      <td>17.33</td>\n",
              "      <td>15.62</td>\n",
              "      <td>19.29</td>\n",
              "      <td>22.23</td>\n",
              "      <td>20.69</td>\n",
              "      <td>24.28</td>\n",
              "    </tr>\n",
              "    <tr>\n",
              "      <th>4</th>\n",
              "      <td>14.44</td>\n",
              "      <td>17.29</td>\n",
              "      <td>16.96</td>\n",
              "      <td>16.55</td>\n",
              "      <td>16.32</td>\n",
              "      <td>13.63</td>\n",
              "      <td>16.40</td>\n",
              "      <td>15.94</td>\n",
              "      <td>18.45</td>\n",
              "      <td>17.19</td>\n",
              "      <td>...</td>\n",
              "      <td>15.30</td>\n",
              "      <td>14.54</td>\n",
              "      <td>16.70</td>\n",
              "      <td>16.09</td>\n",
              "      <td>16.25</td>\n",
              "      <td>16.36</td>\n",
              "      <td>16.53</td>\n",
              "      <td>17.44</td>\n",
              "      <td>12.15</td>\n",
              "      <td>16.64</td>\n",
              "    </tr>\n",
              "  </tbody>\n",
              "</table>\n",
              "<p>5 rows × 200 columns</p>\n",
              "</div>\n",
              "      <button class=\"colab-df-convert\" onclick=\"convertToInteractive('df-058bf8e9-b373-4de3-b1eb-b14fcde752ab')\"\n",
              "              title=\"Convert this dataframe to an interactive table.\"\n",
              "              style=\"display:none;\">\n",
              "        \n",
              "  <svg xmlns=\"http://www.w3.org/2000/svg\" height=\"24px\"viewBox=\"0 0 24 24\"\n",
              "       width=\"24px\">\n",
              "    <path d=\"M0 0h24v24H0V0z\" fill=\"none\"/>\n",
              "    <path d=\"M18.56 5.44l.94 2.06.94-2.06 2.06-.94-2.06-.94-.94-2.06-.94 2.06-2.06.94zm-11 1L8.5 8.5l.94-2.06 2.06-.94-2.06-.94L8.5 2.5l-.94 2.06-2.06.94zm10 10l.94 2.06.94-2.06 2.06-.94-2.06-.94-.94-2.06-.94 2.06-2.06.94z\"/><path d=\"M17.41 7.96l-1.37-1.37c-.4-.4-.92-.59-1.43-.59-.52 0-1.04.2-1.43.59L10.3 9.45l-7.72 7.72c-.78.78-.78 2.05 0 2.83L4 21.41c.39.39.9.59 1.41.59.51 0 1.02-.2 1.41-.59l7.78-7.78 2.81-2.81c.8-.78.8-2.07 0-2.86zM5.41 20L4 18.59l7.72-7.72 1.47 1.35L5.41 20z\"/>\n",
              "  </svg>\n",
              "      </button>\n",
              "      \n",
              "  <style>\n",
              "    .colab-df-container {\n",
              "      display:flex;\n",
              "      flex-wrap:wrap;\n",
              "      gap: 12px;\n",
              "    }\n",
              "\n",
              "    .colab-df-convert {\n",
              "      background-color: #E8F0FE;\n",
              "      border: none;\n",
              "      border-radius: 50%;\n",
              "      cursor: pointer;\n",
              "      display: none;\n",
              "      fill: #1967D2;\n",
              "      height: 32px;\n",
              "      padding: 0 0 0 0;\n",
              "      width: 32px;\n",
              "    }\n",
              "\n",
              "    .colab-df-convert:hover {\n",
              "      background-color: #E2EBFA;\n",
              "      box-shadow: 0px 1px 2px rgba(60, 64, 67, 0.3), 0px 1px 3px 1px rgba(60, 64, 67, 0.15);\n",
              "      fill: #174EA6;\n",
              "    }\n",
              "\n",
              "    [theme=dark] .colab-df-convert {\n",
              "      background-color: #3B4455;\n",
              "      fill: #D2E3FC;\n",
              "    }\n",
              "\n",
              "    [theme=dark] .colab-df-convert:hover {\n",
              "      background-color: #434B5C;\n",
              "      box-shadow: 0px 1px 3px 1px rgba(0, 0, 0, 0.15);\n",
              "      filter: drop-shadow(0px 1px 2px rgba(0, 0, 0, 0.3));\n",
              "      fill: #FFFFFF;\n",
              "    }\n",
              "  </style>\n",
              "\n",
              "      <script>\n",
              "        const buttonEl =\n",
              "          document.querySelector('#df-058bf8e9-b373-4de3-b1eb-b14fcde752ab button.colab-df-convert');\n",
              "        buttonEl.style.display =\n",
              "          google.colab.kernel.accessAllowed ? 'block' : 'none';\n",
              "\n",
              "        async function convertToInteractive(key) {\n",
              "          const element = document.querySelector('#df-058bf8e9-b373-4de3-b1eb-b14fcde752ab');\n",
              "          const dataTable =\n",
              "            await google.colab.kernel.invokeFunction('convertToInteractive',\n",
              "                                                     [key], {});\n",
              "          if (!dataTable) return;\n",
              "\n",
              "          const docLinkHtml = 'Like what you see? Visit the ' +\n",
              "            '<a target=\"_blank\" href=https://colab.research.google.com/notebooks/data_table.ipynb>data table notebook</a>'\n",
              "            + ' to learn more about interactive tables.';\n",
              "          element.innerHTML = '';\n",
              "          dataTable['output_type'] = 'display_data';\n",
              "          await google.colab.output.renderOutput(dataTable, element);\n",
              "          const docLink = document.createElement('div');\n",
              "          docLink.innerHTML = docLinkHtml;\n",
              "          element.appendChild(docLink);\n",
              "        }\n",
              "      </script>\n",
              "    </div>\n",
              "  </div>\n",
              "  "
            ]
          },
          "metadata": {},
          "execution_count": 19
        }
      ]
    },
    {
      "cell_type": "code",
      "metadata": {
        "id": "Hzrg73MWGlOM",
        "outputId": "8ff1edb1-fc3c-4bf8-ef90-63f4a1fccf99",
        "colab": {
          "base_uri": "https://localhost:8080/",
          "height": 423
        }
      },
      "source": [
        "# On crée un dataframe des prédictions (comme on a fait en GBM)\n",
        "RF_actual_pred = pd.DataFrame()\n",
        "\n",
        "# On remplit ces listes des modèles et prédictions pour chaque quantiles grâce à la fonction définie au-dessus\n",
        "for q in quantiles:\n",
        "    s = pred_Q.quantile(q=q, axis=1)\n",
        "    RF_actual_pred = pd.concat([RF_actual_pred,s],axis=1,sort=False)\n",
        "   \n",
        "# On ajoute des colonnes au dataframe des prédictions\n",
        "# On en crée une avec les quantiles\n",
        "RF_actual_pred.columns=quantiles\n",
        "\n",
        "# On en crée une avec les données de tests\n",
        "RF_actual_pred['actual'] = y_test\n",
        "\n",
        "# On en crée une en comparant les quantiles\n",
        "RF_actual_pred['interval'] = RF_actual_pred[np.max(quantiles)] - RF_actual_pred[np.min(quantiles)]\n",
        "\n",
        "# On en crée une en organisant les valeurs de la colonne 'interval' selon leurs valeurs\n",
        "RF_actual_pred = RF_actual_pred.sort_values('interval')\n",
        "\n",
        "# On arrondit les valeurs\n",
        "RF_actual_pred = RF_actual_pred.round(2)\n",
        "\n",
        "# On affiche le dataframe\n",
        "RF_actual_pred"
      ],
      "execution_count": null,
      "outputs": [
        {
          "output_type": "execute_result",
          "data": {
            "text/plain": [
              "     0.01   0.05    0.5   0.95   0.99  actual  interval\n",
              "21  13.40  13.87  15.83  19.05  20.50    17.1      7.10\n",
              "43  14.59  15.47  18.69  20.77  21.96    17.2      7.37\n",
              "4   10.60  12.90  16.55  18.33  18.90    14.8      8.30\n",
              "13  10.20  12.16  13.80  16.70  18.60    14.3      8.40\n",
              "50  13.47  14.49  17.24  20.83  21.90    18.5      8.43\n",
              "..    ...    ...    ...    ...    ...     ...       ...\n",
              "91  17.97  18.58  25.08  38.70  39.00    25.1     21.03\n",
              "90  19.23  20.87  29.35  39.18  40.58    23.2     21.35\n",
              "93  16.50  18.18  23.46  32.16  38.01    24.6     21.51\n",
              "39  18.82  19.66  25.14  39.12  40.87    32.6     22.05\n",
              "80  18.30  19.07  24.26  37.08  40.60    20.7     22.30\n",
              "\n",
              "[94 rows x 7 columns]"
            ],
            "text/html": [
              "\n",
              "  <div id=\"df-2b37bbd0-40bc-4b19-b61b-fc8883da0ae6\">\n",
              "    <div class=\"colab-df-container\">\n",
              "      <div>\n",
              "<style scoped>\n",
              "    .dataframe tbody tr th:only-of-type {\n",
              "        vertical-align: middle;\n",
              "    }\n",
              "\n",
              "    .dataframe tbody tr th {\n",
              "        vertical-align: top;\n",
              "    }\n",
              "\n",
              "    .dataframe thead th {\n",
              "        text-align: right;\n",
              "    }\n",
              "</style>\n",
              "<table border=\"1\" class=\"dataframe\">\n",
              "  <thead>\n",
              "    <tr style=\"text-align: right;\">\n",
              "      <th></th>\n",
              "      <th>0.01</th>\n",
              "      <th>0.05</th>\n",
              "      <th>0.5</th>\n",
              "      <th>0.95</th>\n",
              "      <th>0.99</th>\n",
              "      <th>actual</th>\n",
              "      <th>interval</th>\n",
              "    </tr>\n",
              "  </thead>\n",
              "  <tbody>\n",
              "    <tr>\n",
              "      <th>21</th>\n",
              "      <td>13.40</td>\n",
              "      <td>13.87</td>\n",
              "      <td>15.83</td>\n",
              "      <td>19.05</td>\n",
              "      <td>20.50</td>\n",
              "      <td>17.1</td>\n",
              "      <td>7.10</td>\n",
              "    </tr>\n",
              "    <tr>\n",
              "      <th>43</th>\n",
              "      <td>14.59</td>\n",
              "      <td>15.47</td>\n",
              "      <td>18.69</td>\n",
              "      <td>20.77</td>\n",
              "      <td>21.96</td>\n",
              "      <td>17.2</td>\n",
              "      <td>7.37</td>\n",
              "    </tr>\n",
              "    <tr>\n",
              "      <th>4</th>\n",
              "      <td>10.60</td>\n",
              "      <td>12.90</td>\n",
              "      <td>16.55</td>\n",
              "      <td>18.33</td>\n",
              "      <td>18.90</td>\n",
              "      <td>14.8</td>\n",
              "      <td>8.30</td>\n",
              "    </tr>\n",
              "    <tr>\n",
              "      <th>13</th>\n",
              "      <td>10.20</td>\n",
              "      <td>12.16</td>\n",
              "      <td>13.80</td>\n",
              "      <td>16.70</td>\n",
              "      <td>18.60</td>\n",
              "      <td>14.3</td>\n",
              "      <td>8.40</td>\n",
              "    </tr>\n",
              "    <tr>\n",
              "      <th>50</th>\n",
              "      <td>13.47</td>\n",
              "      <td>14.49</td>\n",
              "      <td>17.24</td>\n",
              "      <td>20.83</td>\n",
              "      <td>21.90</td>\n",
              "      <td>18.5</td>\n",
              "      <td>8.43</td>\n",
              "    </tr>\n",
              "    <tr>\n",
              "      <th>...</th>\n",
              "      <td>...</td>\n",
              "      <td>...</td>\n",
              "      <td>...</td>\n",
              "      <td>...</td>\n",
              "      <td>...</td>\n",
              "      <td>...</td>\n",
              "      <td>...</td>\n",
              "    </tr>\n",
              "    <tr>\n",
              "      <th>91</th>\n",
              "      <td>17.97</td>\n",
              "      <td>18.58</td>\n",
              "      <td>25.08</td>\n",
              "      <td>38.70</td>\n",
              "      <td>39.00</td>\n",
              "      <td>25.1</td>\n",
              "      <td>21.03</td>\n",
              "    </tr>\n",
              "    <tr>\n",
              "      <th>90</th>\n",
              "      <td>19.23</td>\n",
              "      <td>20.87</td>\n",
              "      <td>29.35</td>\n",
              "      <td>39.18</td>\n",
              "      <td>40.58</td>\n",
              "      <td>23.2</td>\n",
              "      <td>21.35</td>\n",
              "    </tr>\n",
              "    <tr>\n",
              "      <th>93</th>\n",
              "      <td>16.50</td>\n",
              "      <td>18.18</td>\n",
              "      <td>23.46</td>\n",
              "      <td>32.16</td>\n",
              "      <td>38.01</td>\n",
              "      <td>24.6</td>\n",
              "      <td>21.51</td>\n",
              "    </tr>\n",
              "    <tr>\n",
              "      <th>39</th>\n",
              "      <td>18.82</td>\n",
              "      <td>19.66</td>\n",
              "      <td>25.14</td>\n",
              "      <td>39.12</td>\n",
              "      <td>40.87</td>\n",
              "      <td>32.6</td>\n",
              "      <td>22.05</td>\n",
              "    </tr>\n",
              "    <tr>\n",
              "      <th>80</th>\n",
              "      <td>18.30</td>\n",
              "      <td>19.07</td>\n",
              "      <td>24.26</td>\n",
              "      <td>37.08</td>\n",
              "      <td>40.60</td>\n",
              "      <td>20.7</td>\n",
              "      <td>22.30</td>\n",
              "    </tr>\n",
              "  </tbody>\n",
              "</table>\n",
              "<p>94 rows × 7 columns</p>\n",
              "</div>\n",
              "      <button class=\"colab-df-convert\" onclick=\"convertToInteractive('df-2b37bbd0-40bc-4b19-b61b-fc8883da0ae6')\"\n",
              "              title=\"Convert this dataframe to an interactive table.\"\n",
              "              style=\"display:none;\">\n",
              "        \n",
              "  <svg xmlns=\"http://www.w3.org/2000/svg\" height=\"24px\"viewBox=\"0 0 24 24\"\n",
              "       width=\"24px\">\n",
              "    <path d=\"M0 0h24v24H0V0z\" fill=\"none\"/>\n",
              "    <path d=\"M18.56 5.44l.94 2.06.94-2.06 2.06-.94-2.06-.94-.94-2.06-.94 2.06-2.06.94zm-11 1L8.5 8.5l.94-2.06 2.06-.94-2.06-.94L8.5 2.5l-.94 2.06-2.06.94zm10 10l.94 2.06.94-2.06 2.06-.94-2.06-.94-.94-2.06-.94 2.06-2.06.94z\"/><path d=\"M17.41 7.96l-1.37-1.37c-.4-.4-.92-.59-1.43-.59-.52 0-1.04.2-1.43.59L10.3 9.45l-7.72 7.72c-.78.78-.78 2.05 0 2.83L4 21.41c.39.39.9.59 1.41.59.51 0 1.02-.2 1.41-.59l7.78-7.78 2.81-2.81c.8-.78.8-2.07 0-2.86zM5.41 20L4 18.59l7.72-7.72 1.47 1.35L5.41 20z\"/>\n",
              "  </svg>\n",
              "      </button>\n",
              "      \n",
              "  <style>\n",
              "    .colab-df-container {\n",
              "      display:flex;\n",
              "      flex-wrap:wrap;\n",
              "      gap: 12px;\n",
              "    }\n",
              "\n",
              "    .colab-df-convert {\n",
              "      background-color: #E8F0FE;\n",
              "      border: none;\n",
              "      border-radius: 50%;\n",
              "      cursor: pointer;\n",
              "      display: none;\n",
              "      fill: #1967D2;\n",
              "      height: 32px;\n",
              "      padding: 0 0 0 0;\n",
              "      width: 32px;\n",
              "    }\n",
              "\n",
              "    .colab-df-convert:hover {\n",
              "      background-color: #E2EBFA;\n",
              "      box-shadow: 0px 1px 2px rgba(60, 64, 67, 0.3), 0px 1px 3px 1px rgba(60, 64, 67, 0.15);\n",
              "      fill: #174EA6;\n",
              "    }\n",
              "\n",
              "    [theme=dark] .colab-df-convert {\n",
              "      background-color: #3B4455;\n",
              "      fill: #D2E3FC;\n",
              "    }\n",
              "\n",
              "    [theme=dark] .colab-df-convert:hover {\n",
              "      background-color: #434B5C;\n",
              "      box-shadow: 0px 1px 3px 1px rgba(0, 0, 0, 0.15);\n",
              "      filter: drop-shadow(0px 1px 2px rgba(0, 0, 0, 0.3));\n",
              "      fill: #FFFFFF;\n",
              "    }\n",
              "  </style>\n",
              "\n",
              "      <script>\n",
              "        const buttonEl =\n",
              "          document.querySelector('#df-2b37bbd0-40bc-4b19-b61b-fc8883da0ae6 button.colab-df-convert');\n",
              "        buttonEl.style.display =\n",
              "          google.colab.kernel.accessAllowed ? 'block' : 'none';\n",
              "\n",
              "        async function convertToInteractive(key) {\n",
              "          const element = document.querySelector('#df-2b37bbd0-40bc-4b19-b61b-fc8883da0ae6');\n",
              "          const dataTable =\n",
              "            await google.colab.kernel.invokeFunction('convertToInteractive',\n",
              "                                                     [key], {});\n",
              "          if (!dataTable) return;\n",
              "\n",
              "          const docLinkHtml = 'Like what you see? Visit the ' +\n",
              "            '<a target=\"_blank\" href=https://colab.research.google.com/notebooks/data_table.ipynb>data table notebook</a>'\n",
              "            + ' to learn more about interactive tables.';\n",
              "          element.innerHTML = '';\n",
              "          dataTable['output_type'] = 'display_data';\n",
              "          await google.colab.output.renderOutput(dataTable, element);\n",
              "          const docLink = document.createElement('div');\n",
              "          docLink.innerHTML = docLinkHtml;\n",
              "          element.appendChild(docLink);\n",
              "        }\n",
              "      </script>\n",
              "    </div>\n",
              "  </div>\n",
              "  "
            ]
          },
          "metadata": {},
          "execution_count": 20
        }
      ]
    },
    {
      "cell_type": "markdown",
      "source": [
        "#### Visualisation"
      ],
      "metadata": {
        "id": "f-l8WITjQLpL"
      }
    },
    {
      "cell_type": "code",
      "source": [
        "# On prépare, légende, échelonne et affiche le graphique\n",
        "plt.plot(RF_actual_pred['actual'],'go',markersize=3,label='Actual')\n",
        "\n",
        "plt.fill_between(\n",
        "    np.arange(RF_actual_pred.shape[0]), RF_actual_pred[0.01], RF_actual_pred[0.99], alpha=0.5, color=\"r\",\n",
        "    label=\"Predicted interval\")\n",
        "\n",
        "# Nom des axes\n",
        "plt.xlabel(\"Ordered samples.\")\n",
        "plt.ylabel(\"Values and prediction intervals.\")\n",
        "\n",
        "# Graduation des axes\n",
        "plt.xlim([0, 100])\n",
        "plt.ylim([20, 60])\n",
        "\n",
        "# Légende\n",
        "plt.legend()\n",
        "\n",
        "# Affichage\n",
        "plt.show()"
      ],
      "metadata": {
        "colab": {
          "base_uri": "https://localhost:8080/",
          "height": 283
        },
        "id": "Xk__XrnMeePD",
        "outputId": "f470b851-d870-4ab0-9a80-6751037eef23"
      },
      "execution_count": null,
      "outputs": [
        {
          "output_type": "display_data",
          "data": {
            "text/plain": [
              "<Figure size 432x288 with 1 Axes>"
            ],
            "image/png": "[encoded data removed]"
          },
          "metadata": {
            "needs_background": "light"
          }
        }
      ]
    },
    {
      "cell_type": "markdown",
      "source": [
        "#### Performance"
      ],
      "metadata": {
        "id": "Il9xjMR0QtGr"
      }
    },
    {
      "cell_type": "code",
      "metadata": {
        "id": "QDlhBkiRGlON",
        "outputId": "6134668d-869c-4c2e-9a1b-f831d1244272",
        "colab": {
          "base_uri": "https://localhost:8080/"
        }
      },
      "source": [
        "# On calcule le R2 du modèle (à quel point le modèle explique la variance)\n",
        "r2 = metrics.r2_score(RF_actual_pred['actual'], RF_actual_pred[0.5]).round(2)\n",
        "\n",
        "# On l'affiche\n",
        "print('R2 score is {}'.format(r2))"
      ],
      "execution_count": null,
      "outputs": [
        {
          "output_type": "stream",
          "name": "stdout",
          "text": [
            "R2 score is 0.1\n"
          ]
        }
      ]
    },
    {
      "cell_type": "markdown",
      "source": [
        "#### Prédictions correctes"
      ],
      "metadata": {
        "id": "XSCxMn8ZQ1Ca"
      }
    },
    {
      "cell_type": "code",
      "metadata": {
        "id": "M7XgqMSmGlOO",
        "colab": {
          "base_uri": "https://localhost:8080/"
        },
        "outputId": "979e608e-66d1-493e-8206-55ed239677e8"
      },
      "source": [
        "# Taux de bonnes prédictions (en appliquant la fonction définie plus haut)\n",
        "correctPcnt(RF_actual_pred)"
      ],
      "execution_count": null,
      "outputs": [
        {
          "output_type": "stream",
          "name": "stdout",
          "text": [
            "0.8723404255319149\n"
          ]
        }
      ]
    }
  ]
}
