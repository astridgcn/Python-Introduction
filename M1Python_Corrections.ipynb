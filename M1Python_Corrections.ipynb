{
  "nbformat": 4,
  "nbformat_minor": 0,
  "metadata": {
    "colab": {
      "provenance": [],
      "collapsed_sections": [],
      "include_colab_link": true
    },
    "kernelspec": {
      "name": "python3",
      "display_name": "Python 3"
    },
    "language_info": {
      "name": "python"
    }
  },
  "cells": [
    {
      "cell_type": "markdown",
      "metadata": {
        "id": "view-in-github",
        "colab_type": "text"
      },
      "source": [
        "<a href=\"https://colab.research.google.com/github/astridgcn/Python-Introduction/blob/main/M1Python_Corrections.ipynb\" target=\"_parent\"><img src=\"https://colab.research.google.com/assets/colab-badge.svg\" alt=\"Open In Colab\"/></a>"
      ]
    },
    {
      "cell_type": "markdown",
      "source": [
        "### Exercice 1 \n",
        "Écrire une fonction dans un module Python qui, à tout chiffre/nombre compris entre 1 et 10, lui appliquera un exposant que l'on spécifiera. \n",
        "\n",
        "💡 *Par exemple, si l'on souhaite 10 exposant 3, nous obtenons 1000.*"
      ],
      "metadata": {
        "id": "viowNPg46_-Y"
      }
    },
    {
      "cell_type": "code",
      "execution_count": null,
      "metadata": {
        "id": "Bcox3-YJ66oz",
        "outputId": "59f59630-725c-4173-8f4b-c1eaeedd146a",
        "colab": {
          "base_uri": "https://localhost:8080/"
        }
      },
      "outputs": [
        {
          "output_type": "stream",
          "name": "stdout",
          "text": [
            "1 4 9 16 25 36 49 64 81 100 "
          ]
        }
      ],
      "source": [
        "# On définit notre fonction\n",
        "def puissance(nombre, exposant):\n",
        "  return nombre ** exposant\n",
        "\n",
        "\n",
        "# Spécifions, par exemple, un exposant 2\n",
        "exposant = 2\n",
        "\n",
        "# l'argument `end` permet d'éviter le retour à la ligne\n",
        "for i in range(1, 11):\n",
        "  print(puissance(i, exposant), end=\" \")"
      ]
    },
    {
      "cell_type": "markdown",
      "source": [
        "### Exercice 2\n",
        "Écrire une procédure dont l'exécution ne cessera que lorsque l'utilisateur entrera la chaîne de caractères (string) suivante : \"stop\".\n",
        "\n",
        "💡 *La fonction à utiliser pour saisir une donnée est `input()`.*"
      ],
      "metadata": {
        "id": "sqLTIxDI7FEc"
      }
    },
    {
      "cell_type": "code",
      "source": [
        "def saisie_infinie():\n",
        "  # La fonction while est toujours vraie, donc s'exécute perpétuellement\n",
        "  while True:\n",
        "    saisie = input(\"Saisir quelque chose. Saisir \\\"stop\\\" pour sortir de la fonction.\")\n",
        "    if saisie != \"stop\":\n",
        "      print(\"Saisie vaut: \" + str(saisie))\n",
        "    else:\n",
        "      # Si la saisie est stop, on \"casse\" la boucle\n",
        "      break\n",
        "\n",
        "\n",
        "# Décommenter les 2 lignes ci-dessous pour exécuter le code. Il a été commenté pour pouvoir générer le document.\n",
        "saisie_infinie()\n",
        "print(\"Fin de la boucle.\")"
      ],
      "metadata": {
        "id": "UHHT2OFX7byc"
      },
      "execution_count": null,
      "outputs": []
    },
    {
      "cell_type": "markdown",
      "source": [
        "### Exercice 3\n",
        "Écrire une fonction qui, à chaque chaîne de caractères, retirera les lettres dans une liste fournie en entrée (les voyelles, par ex.).\n",
        "\n",
        "💡 *Il nous faudra stocker toutes les lettres d'une part, et toutes lettres que l'on souhaitera retenir d'autre part, puis retourner la liste des lettres que l'on retiendra.*\n",
        "\n",
        "*Exemple : \"voyelles\" doit devenir \"vlls\" si l'on décide d'en retirer les voyelles, avec y inclus. *texte en italique*"
      ],
      "metadata": {
        "id": "jbkmYhsa7KIz"
      }
    },
    {
      "cell_type": "code",
      "source": [
        "def mot_filtre(mot, liste_de_lettres):\n",
        "  filtrage = \"\"\n",
        "  for lettre in mot:\n",
        "    if lettre not in liste_de_lettres:\n",
        "      filtrage += lettre\n",
        "  return filtrage\n",
        "\n",
        "\n",
        "mot = \"dinosaure\"\n",
        "liste_de_lettres = [\"a\", \"e\", \"i\", \"o\", \"u\", \"y\"]\n",
        "print(mot_filtre(mot, liste_de_lettres))"
      ],
      "metadata": {
        "id": "VI1x8N4r7d5N"
      },
      "execution_count": null,
      "outputs": []
    },
    {
      "cell_type": "markdown",
      "source": [
        "### Exercice 4 \n",
        "Écrire une fonction qui retourne tous les multiples d'un nombre compris entre dans un intervalle fourni en entrée.\n",
        "\n",
        "💡 *Il faudra spécifier un intervalle, recueillir les multiples dans une structure, et tester si un nombre est un multiple d'un autre. Pour cette dernière opération, on utilisera le modulo, qui est le reste d'une division euclidienne. Ainsi, 5 % 2 vaut 1, tandis que 4 % 2 vaut 0. Vous l'aurez compris : le modulo d'un nombre par un autre facteur dont il est le multiple vaut 0.* "
      ],
      "metadata": {
        "id": "VQoIG-Hr7KQV"
      }
    },
    {
      "cell_type": "code",
      "source": [
        "def multiple(intervalle, facteur):\n",
        "  multiples = []\n",
        "  for i in intervalle:\n",
        "    if i % facteur == 0:\n",
        "      multiples.append(i)\n",
        "  return multiples\n",
        "\n",
        "\n",
        "# Mettons que nous voulions les multiples de 2 compris entre 3 et 20 inclus:\n",
        "# (attention: range s'arrête à 19 si on met 20 comme borne supérieure, d'où le 21)\n",
        "print(multiple(range(3, 21), 2))"
      ],
      "metadata": {
        "id": "-0Bnk2Uj7g3l"
      },
      "execution_count": null,
      "outputs": []
    },
    {
      "cell_type": "markdown",
      "source": [
        "### Exercice 5\n",
        "Jouons à un jeu de plus ou moins. Écrire une procédure dans laquelle un chiffre est sélectionné au hasard entre 0 et 9. L'utilisateur doit deviner lequel c'est. S'il saisit un chiffre supérieur à celui sélectionné, alors la fonction doit afficher que c'est moins, et vice versa. Le jeu s'arrête lorsque l'utilisateur aura deviné le bon chiffre.\n",
        "\n",
        "💡 *Pour sélectionner un chiffre entre 0 et 9, on devra importer un package et utiliser une fonction de ce dernier, tel que ci-dessous :*\n",
        "\n",
        "```py\n",
        "import random\n",
        "\n",
        "random.randint(0, 9) # Ceci doit faire partie du corps de la procédure à développer.\n",
        "\n",
        "# 6\n",
        "```\n",
        "\n"
      ],
      "metadata": {
        "id": "5rqDnLWK7KWc"
      }
    },
    {
      "cell_type": "code",
      "source": [
        "import random\n",
        "\n",
        "\n",
        "def plus_ou_moins():\n",
        "  pari = -1\n",
        "  a_deviner = random.randint(0, 9)\n",
        "  # On pourrait aussi faire un while True et faire un break plus loin, comme ci-dessus.\n",
        "  while pari != a_deviner:\n",
        "    pari = int(input(\"Saisir un entier entre 0 et 9. \"))\n",
        "    if pari > a_deviner:\n",
        "      print(\"C'est moins.\")\n",
        "    if pari < a_deviner:\n",
        "      print(\"C'est plus.\")\n",
        "  print(\"Bravo !\")\n",
        "\n",
        "# Décommenter la ligne ci-dessous pour l'exécution\n",
        "# Pour une obscure raison, les \"C'est plus\" et \"C'est moins\" apparaissent en fin d'exécution dans RStudio, càd, lorsque le jeu se termine. Pour autant, le code est bien correct.\n",
        "plus_ou_moins()"
      ],
      "metadata": {
        "id": "yYhSL-a87ib5"
      },
      "execution_count": null,
      "outputs": []
    },
    {
      "cell_type": "markdown",
      "source": [
        "### Exercice 6\n",
        "Créer une fonction qui remplace tous les termes dans la diagonale d'un tableau carré par la chaîne \"diag\". \n",
        "\n",
        "💡 *Voici un exemple de tableau et la sortie attendue pour celui-ci* :\n",
        "```\n",
        "# Entrée :\n",
        "_____________\n",
        "| 1 | 2 | 3 |\n",
        "| 4 | 5 | 6 |\n",
        "| 7 | 8 | 9 |\n",
        "_____________\n",
        "\n",
        "# Sortie :\n",
        "________________\n",
        "| dino | 2 | 3 |\n",
        "| 4 | dino | 6 |\n",
        "| 7 | 8 | dino |\n",
        "________________\n",
        "```"
      ],
      "metadata": {
        "id": "-XXEaTWV7KaR"
      }
    },
    {
      "cell_type": "code",
      "source": [
        "def remplace_diagonale(tableau):\n",
        "  for i in range(len(tableau)):\n",
        "    for j in range(len(tableau[i])):\n",
        "      if i == j: # Si l'on est sur la diagonale, on remplace\n",
        "        tableau[i][j] = \"diag\"\n",
        "  return tableau\n",
        "\n",
        "      \n",
        "T = [[1, 2, 3], [4, 5, 6], [7, 8, 9]]\n",
        "print(remplace_diagonale(T))"
      ],
      "metadata": {
        "id": "vIbL0iVm7j2A"
      },
      "execution_count": null,
      "outputs": []
    },
    {
      "cell_type": "markdown",
      "source": [
        "### Exercice 7 \n",
        "La fonction factorielle est certainement la fonction récursive la plus simple à comprendre. Une fonction récursive signifie que l'on peut appeler la fonction que l'on définit dans le corps de son expression, en décomposant la donnée à traiter en blocs plus petits. Concrètement, si l'on devait définir la factorielle récursivement, on ferait ainsi :\n",
        "\n",
        "```factorielle(n) = n * factorielle(n-1)```  \n",
        "On demande ici de coder la fonction factorielle.\n",
        "\n",
        "💡 Indice : il faudra forcément une condition d'arrêt.\n",
        "\n"
      ],
      "metadata": {
        "id": "WbrxjA6J7Kdk"
      }
    },
    {
      "cell_type": "code",
      "source": [
        "def factorielle(n):\n",
        "  # Condition d'arrêt\n",
        "  if n == 0 or n == 1:\n",
        "    return 1\n",
        "  else:\n",
        "    return (n * factorielle(n-1))\n",
        "  \n",
        "  \n",
        "for n in range(0, 11):\n",
        "  print(factorielle(n), end=\" \")"
      ],
      "metadata": {
        "id": "b8VDyJtM7nVk"
      },
      "execution_count": null,
      "outputs": []
    },
    {
      "cell_type": "markdown",
      "source": [
        "### Exercice 8\n",
        "Le FizzBuzz est un problème populaire auprès des développeureuses. Vous allez donc en faire une version basique.\n",
        "\n",
        "Le problème est le suivant :\n",
        "\n",
        "- Si le nombre est divisible par 3 : on affiche `Fizz`.\n",
        "- Si le nombre est divisible par 5 : on affiche `Buzz`.\n",
        "- Si le nombre est divisible par 3 et par 5 : on affiche `FizzBuzz`.\n",
        "- Sinon on affiche le nombre.\n",
        "\n",
        "Coder une procédure qui prend un intervalle en entrée et qui résout ce problème."
      ],
      "metadata": {
        "id": "xTab394_7XHK"
      }
    },
    {
      "cell_type": "code",
      "source": [
        "def fizzbuzz(intervalle):\n",
        "  for i in intervalle:\n",
        "      if i % 3 == 0 and i % 5 == 0:\n",
        "          print(\"Fizzbuzz\", end=\" \")\n",
        "          continue\n",
        "      elif i % 3 == 0:\n",
        "          print(\"Fizz\", end=\" \")\n",
        "          continue\n",
        "      elif i % 5 == 0:\n",
        "          print(\"Buzz\", end=\" \")\n",
        "          continue\n",
        "      print(i, end=\" \")\n",
        "      \n",
        "      \n",
        "intervalle = range(1, 21)\n",
        "fizzbuzz(intervalle)"
      ],
      "metadata": {
        "id": "IZcdsDL27pBt"
      },
      "execution_count": null,
      "outputs": []
    },
    {
      "cell_type": "markdown",
      "source": [
        "### Exercice 9\n",
        "#### Régression linéaire & Machine Learning\n",
        "\n",
        "Manipuler `matplotlib` et `sklearn` pour visualiser puis prédire la taille d’enfants en fonction de leur âge. \n",
        "\n",
        "💡 *On pourra soit utiliser un jeu de données existant, soit en générer un comme celui-ci* :\n",
        "\n",
        "```py\n",
        "age = list(range(1,19))\n",
        "taille = [75, 85, 96, 100, 104, 110, 117, 120, 125, 130, 133, 140, 145, 150, 157, 160, 170, 175]\n",
        "```\n",
        "\n",
        "On étudiera les liens entre taille et âge : on créera un modèle prédictif de la taille grâce à l’âge, on l’entraînera sur 80% du jeu de données, affichera les coefficients du modèle, et testera ses performances sur les 20% du jeux de données restant."
      ],
      "metadata": {
        "id": "MgXCAYgXoNDd"
      }
    },
    {
      "cell_type": "code",
      "source": [
        "# ----------------- LIBRAIRIES -----------------\n",
        "\n",
        "# 1. Librairies \n",
        "\n",
        "#Visualisation de données\n",
        "from matplotlib import pyplot \n",
        "import matplotlib.pyplot as plt\n",
        "#Tableaux\n",
        "import numpy as np\n",
        "#Machine Learning\n",
        "from sklearn.linear_model import LinearRegression\n",
        "from sklearn.model_selection import train_test_split\n",
        "\n",
        "# ----------------- RÉGRESSION -----------------\n",
        "\n",
        "# 2. Donnnées\n",
        "\n",
        "## a) Création des données (vous pouvez charger des données existantes avec read_csv comme vu en cours)\n",
        "age = list(range(1,19))\n",
        "taille = [75, 85, 96, 100, 104, 110, 117, 120, 125, 130, 133, 140, 145, 150, 157, 160, 170, 175]\n",
        "print(\"\\n------------------ Données ------------------\")\n",
        "print(\"Âges : \\n\", age)\n",
        "print(\"Tailles : \\n\",taille)\n",
        "\n",
        "## b) Division des données en apprentissage et test\n",
        "\n",
        "# On répartit les données aléatoirement : 80% en données d'apprentissage, et 20% pour tester (le text_size = 0.2)\n",
        "age_train, age_test, taille_train, taille_test = train_test_split(age, taille, test_size=0.2, random_state=0)\n",
        "\n",
        "# c) On les affiche\n",
        "print(\"\\n----------- Données d'entraînement ----------\")\n",
        "print(\"Âges : \\n\",age_train)\n",
        "print(\"Tailles : \\n\",taille_train)\n",
        "print(\"\\n-------------- Données de test --------------\")\n",
        "print(\"Âges : \\n\",age_test)\n",
        "print(\"Tailles : \\n\",taille_test)\n",
        "\n",
        "# d) Transformation\n",
        "\n",
        "# On transforme en vecteur colonne pour le modèle (ne change pas les données, seulement leur forme)\n",
        "age_train = np.reshape(age_train, (-1, 1)) # Si on met (1, -1), il s'agira d'un vecteur colonne\n",
        "#print(age_train) \n",
        "\n",
        "age_test = np.reshape(age_test, (-1, 1))\n",
        "#print(age_test) \n",
        "\n",
        "# 3. Modèle\n",
        "\n",
        "## a) Création du modèle\n",
        "\n",
        "# On crée le modèle\n",
        "model = LinearRegression()\n",
        "\n",
        "# On remplit le modèle\n",
        "model.fit(age_train, taille_train)\n",
        "\n",
        "# On évalue ses performances\n",
        "print(\"\\n------------------ Modèle ------------------\")\n",
        "print(\"Performances : \", model.score(age_train, taille_train))\n",
        "\n",
        "# On regarde les informations du modèle\n",
        "print(\"Coefficient(s) du modèle :\",  model.coef_)\n",
        "print(\"Ordonnée à l'origine du modèle :\", model.intercept_)\n",
        "\n",
        "## b) Prédiction\n",
        "\n",
        "# On teste la capacité du modèle à prédire (les fameux 20% de données qu'on a mises de côté pour tester notre modèle)\n",
        "print(\"\\nPrédictions du modèle :\", \"\\nTailles qui doivent être prédites :\", taille_test, \"\\nTailles prédites par le modèle :\", model.predict(age_test))\n",
        "\n",
        "# Remarques :\n",
        "# - Ce code n'est pas le plus optimisé, mais il est suffisamment simple pour illustrer le principe de l'algorithme.\n",
        "# - On pourrait par exemple récupérer les lettres d'un document texte et les stocker dans une liste.\n",
        "# - Il a été décidé (totalement arbitrairement) que les lettres bruitées ayant plus de 5 différences avec les autres lettres soient marquées comme non reconnues. (Sinon, elle est reconnnue comme celle avec qui elle a le moins grand nombre de différences).\n",
        "\n",
        "# N'hésitez pas à proposer des améliorations et/ou extensions !"
      ],
      "metadata": {
        "id": "t481i4jToPG1"
      },
      "execution_count": null,
      "outputs": []
    },
    {
      "cell_type": "markdown",
      "source": [
        "### Exercice 10\n",
        "#### Problème du voyageur de commerce en algorithme génétique\n",
        "\n",
        "Benjamin souhaite réduire sa consommation d’essence. Il cherche donc le trajet lui permettant de parcourir le moins de distance entre 15 salles d’escalade.\n",
        "\n",
        "Sachant que pour $n$ villes, on a $\\frac {(n - 1)!}{2}$ chemins à étudier, il est impossible de tous les tester. \n",
        "\n",
        "Pour résoudre ce problème d’optimisation, on fait appel à un algorithme génétique. L’algorithme génétique se base sur la théorie évolutionniste. Étant donné qu’on ne peut tester toutes les solutions possibles, on en teste quelques unes, identifie les meilleures (principe d’adaptation), les conserve pour en générer (principe d’hérédité) de nouvelles jusqu’à atteindre l’objectif.\n",
        "\n",
        "💡 *Un peu comme si les dinosaures avaient eu besoin d’être géants pour survivre. Au début, on observe toutes les tailles de dinosaures, puis au fur et à mesure, seulement les plus grands survivent, et se reproduisent jusqu’à ce que la population ne soit constituée que de dinosaures gigantesques.*\n",
        "\n",
        "On créera un premier individu qui parcourt les salles d’escalade dans l’ordre :\n",
        "\n",
        "````py\n",
        "Trajet = [0, 1, 2, 3, 4, 5, 6, 7, 8, 9, 10, 11, 12, 13, 14]\n",
        "````\n",
        "\n",
        "À partir de ce premier trajet, on en créera 100 aléatoires en mélangeant l’ordre de `Trajet` grâce à la fonction `shuffle`. On calculera ensuite la distance parcourue avec chaque trajet et sélectionnera les 10 trajets les plus courts. \n",
        "\n",
        "Ensuite, on générera à nouveau 90 trajets aléatoires à partir des 10 meilleurs sélectionnés. Pour créer chaque nouveau trajet, on choisira aléatoirement 2 des meilleurs trajets précédemment sélectionnés et les fusionnera pour en créer un nouveau (on prendra une partie aléatoire de l’ordre de l’un et complètera avec l’autre en s’assurant que chaque ville soit traversée une et une seule fois). Avec ces 90 nouveaux trajets créés et des 10 sélectionnés, on disposera à nouveau de 100 trajets dont on calculera la distance pour sélectionner les 10 meilleurs trajets.\n",
        "\n",
        "On répète autant de fois qu’il sera nécessaire pour atteindre la distance nécessaire.\n",
        "\n",
        "💡 *On pourra par exemple générer aléatoirement la distance entre les 15 salles d’escalade, avec un minimum de 100km entre chaque et 3450 comme distance à parcourir. On pourrait aussi télécharger et importer un fichier .csv des distances des 15 plus grandes villes de France.*\n",
        "\n",
        "💡 *Si besoin, un bout de code pour générer la matrice des salles d’escalade* :\n",
        "\n",
        "```py\n",
        "# Distances entre les salles\n",
        "N = 15 # Nombre de salles \n",
        "N_cell = N*N # Nombre cases tableau des distances\n",
        "\n",
        "dist = [[0 for _ in range(N)] for _ in range(N)] # Crée la matrice des distance remplie de 0 (qu'on remplit juste après)\n",
        "\n",
        "c = 100 # Distance minimale entre deux salles (100km)\n",
        "for i in range (N) :\n",
        "    for j in range (N) :\n",
        "        c += 1 (on ajoute 1km à chaque fois, sachant qu'on est dans des boucles imbriquées qui tournent 15 fois chacune)\n",
        "        dist[i][j] = dist[j][i] # Symétrie (même distance entre A et B que B et A\n",
        "        if i != j : # Remplit les distances sauf la diagonale\n",
        "            dist[i][j] = c \n",
        "            dist[j][i] = dist[i][j] \n",
        "\n",
        "```\n",
        "\n",
        "Ce qui nous donne :\n",
        "\n",
        "```py\n",
        "Tableau des distances : \n",
        "\n",
        "     A   B   C   D   E   F   G   H   I   J   K   L   M   N   O  \n",
        "    -----------------------------------------------------------\n",
        "A  | 0 116 131 146 161 176 191 206 221 236 251 266 281 296 311 |\n",
        "B  | 116 0 132 147 162 177 192 207 222 237 252 267 282 297 312 |\n",
        "C  | 131 132 0 148 163 178 193 208 223 238 253 268 283 298 313 |\n",
        "D  | 146 147 148 0 164 179 194 209 224 239 254 269 284 299 314 |\n",
        "E  | 161 162 163 164 0 180 195 210 225 240 255 270 285 300 315 |\n",
        "F  | 176 177 178 179 180 0 196 211 226 241 256 271 286 301 316 |\n",
        "G  | 191 192 193 194 195 196 0 212 227 242 257 272 287 302 317 |\n",
        "H  | 206 207 208 209 210 211 212 0 228 243 258 273 288 303 318 |\n",
        "I  | 221 222 223 224 225 226 227 228 0 244 259 274 289 304 319 |\n",
        "J  | 236 237 238 239 240 241 242 243 244 0 260 275 290 305 320 |\n",
        "K  | 251 252 253 254 255 256 257 258 259 260 0 276 291 306 321 |\n",
        "L  | 266 267 268 269 270 271 272 273 274 275 276 0 292 307 322 |\n",
        "M  | 281 282 283 284 285 286 287 288 289 290 291 292 0 308 323 |\n",
        "N  | 296 297 298 299 300 301 302 303 304 305 306 307 308 0 324 |\n",
        "O  | 311 312 313 314 315 316 317 318 319 320 321 322 323 324 0 |\n",
        "    -----------------------------------------------------------\n",
        "\n",
        "  ```"
      ],
      "metadata": {
        "id": "8Ma-H-_fpt8R"
      }
    },
    {
      "cell_type": "code",
      "source": [
        "# ----------------- LIBRAIRIES -----------------\n",
        "\n",
        "from random import shuffle\n",
        "import random\n",
        "from math import *\n",
        "\n",
        "# ----------------- INITIALISATIONS -----------------\n",
        "print(\"Distance maximale que vous souhaitez parcourir : \")\n",
        "goal = int(input())\n",
        "# goal = 3400\n",
        "\n",
        "# Distances entre les villes\n",
        "print(\"Nombre de villes que vous souhaitez visiter : \")\n",
        "N = int(input())\n",
        "# N = 15\n",
        "N_cell = N*N #Nombre cases tableau\n",
        "\n",
        "dist = [[0 for _ in range(N)] for _ in range(N)] #crée la matrice et la remplit de 0\n",
        "\n",
        "print(\"Distance minimale entre les villes que vous souhaitez créer : \")\n",
        "c = int(input())\n",
        "# c = 100\n",
        "for i in range (N) :\n",
        "    for j in range (N) :\n",
        "        c += 1\n",
        "        dist[i][j] = dist[j][i]\n",
        "        if i != j : #remplit les distances sauf la diagonale\n",
        "            dist[i][j] = c \n",
        "            dist[j][i] = dist[i][j]\n",
        "            \n",
        "# Individus \n",
        "print(\"Nombre d'individus dans chaque génération : \")\n",
        "In = int(input()) #nombre d'individus\n",
        "# In = 100\n",
        "Ind = list(range(0,N)) #individu parcourant les n villes dans l'ordre\n",
        "# Ind = [0, 1, 2, 3, 4, 5, 6, 7, 8, 9, 10, 11, 12, 13, 14] \n",
        "# Population\n",
        "Pop = []\n",
        "   \n",
        "for i in range (In) :\n",
        "    naissance = Ind[:]\n",
        "    shuffle(naissance)\n",
        "    Pop.append(naissance)\n",
        "    \n",
        "# Nouvelle population\n",
        "NewPop = [[0 for _ in range(N)] for _ in range(In)]\n",
        "\n",
        "# Fitness\n",
        "Fitness = [[0 for _ in range(2)] for _ in range(In)] #liste avec indice individu et sa fitness (inutile car on a l'indice avec i mais utile quand on ordonne)\n",
        "print(\"Nombre d'individus à conserver : \")\n",
        "En = int(input()) #nombre d'individus faisant partie de l'élite (les meilleurs pour la fitness)\n",
        "# En = 10\n",
        "\n",
        "# ----------------- FONCTIONS -----------------\n",
        "def affiche_distance (liste) :\n",
        "    print (\"\\nTableau des distances : \\n\")\n",
        "    print (\"    \", end=\"\")\n",
        "    for k in range (N) :\n",
        "        print (\"\", chr(k + 65), \" \", end=\"\")\n",
        "    print (\"\")\n",
        "    print (\"    -----------------------------------------------------------\")\n",
        "    for i in range (N) :\n",
        "        print (chr (i + 65),\" \", end=\"\")\n",
        "        print (\"| \", end=\"\")\n",
        "        for j in range (N):        \n",
        "            print (liste[i][j], end=\" \")\n",
        "        print (\"|\")\n",
        "    print (\"    -----------------------------------------------------------\\n\")\n",
        "    \n",
        "def affiche_individu (liste) :\n",
        "    print (\"\\nListe des individus : \\n\")\n",
        "    for k in range (In) :\n",
        "        print (Pop[k])\n",
        "    print(\"\\n\")  \n",
        "    \n",
        "# ----------------- DEBUT -----------------\n",
        "affiche_distance(dist)\n",
        "affiche_individu(Pop)\n",
        "\n",
        "g = 0 #nb génération\n",
        "min = 100000 #minimum élevé pour être sûr qu'il soit battu\n",
        "while min >= goal :\n",
        "    print (\"\\n-------------------- Génération\", g, \"-------------------\")\n",
        "    if g != 0 :\n",
        "        print (\"Distance minimale de la dernière génération :\", min)\n",
        "    Fitness = [[0 for _ in range(2)] for _ in range(In)]\n",
        "    print (\"\\n---------------------- Fitness ----------------------\")\n",
        "    \n",
        "    # Calcul de la fitness des chemins\n",
        "    \n",
        "    for i in range (In) : #pour chaque individu\n",
        "        fitness = 0 \n",
        "        n = 0 #pour simplifier l'écriture et vérifier les valeurs\n",
        "        p = 0\n",
        "        for j in range (N) : #pour 15 villes\n",
        "            if j!= N-1 :\n",
        "                n = Pop[i][j] \n",
        "                p = Pop[i][j+1]\n",
        "                fitness += dist[n][p]\n",
        "        fitness += dist[Pop[i][N-1]][Pop[i][0]]\n",
        "        Fitness[i][0] = fitness\n",
        "        Fitness[i][1] = i\n",
        "        #print (\"Fitness individu\", i, \" : \", fitness) \n",
        "        \n",
        "    Fitness.sort()\n",
        "    #print (\"\\n\", Fitness) #utiliser fonction psq c moche\n",
        "    FElite = Fitness [0:En:1] #Fitness de l'élite\n",
        "    min = FElite[0][0]\n",
        "    best = FElite[0][1]\n",
        "    print (\"\\nFitness et indice des 10 meilleurs individus :\")\n",
        "    print(FElite)\n",
        "    #print (\"Min :\",min)\n",
        "    \n",
        "    print (\"\\n-------------------- Croisements --------------------\")\n",
        "    \n",
        "    \n",
        "    for i in range (In-En) : #on va créer 90 nouveaux individus\n",
        "        #print (\"\\nNouvel individu\", i)\n",
        "        # Parent 1\n",
        "        P1 = random.randint(1, En) #un chiffre aléatoire entre 1 et 10\n",
        "        #print (\"P1 :\", P1)\n",
        "        n1 = FElite[P1-1][1] #indice du parent 1\n",
        "        #print (\"Parent 1 :\", n1)\n",
        "        \n",
        "        # Troncature \n",
        "        t = random.randint(1, N) #indice pour la troncature\n",
        "        #print (\"Endroit de la coupure :\", t)\n",
        "        \n",
        "        # On prend les t gènes du Parent 1\n",
        "        for j in range (t) : \n",
        "            x = Pop[n1][j]\n",
        "            NewPop[i][j] = x\n",
        "        #print(NewPop[i])\n",
        "    \n",
        "        # Parent 2\n",
        "        P2 = random.randint(1, En) #un chiffre aléatoire entre 1 et 10\n",
        "        while P1 == P2 : #éviter la reproduction avec lui-même\n",
        "            P2 = random.randint(1, En)\n",
        "        #print (\"P2 :\", P2)\n",
        "        n2 = FElite[P2-1][1]\n",
        "        #print (\"Parent 2 :\", n2)\n",
        "        \n",
        "        # On prend les autres chez le Parent 2\n",
        "        v = N - t#nb gènes\n",
        "        #print(\"v :\", v)\n",
        "        for k in range (v) : \n",
        "            w = k + t\n",
        "            #print(\"w :\", w)\n",
        "            for n in range (N) : \n",
        "                if Pop[n2][n] not in (NewPop[i]) :\n",
        "                    x = Pop[n2][n]\n",
        "                    NewPop[i][w] = x\n",
        "        #print (NewPop[i])\n",
        "        \n",
        "    # On ajoute les En parents à la nouvelle population\n",
        "    for i in range (En) :\n",
        "        #print (\"\\nIndividu\", i+90)\n",
        "        n = FElite[i][1]\n",
        "        NewPop[i+90] = Pop[n][:]\n",
        "        #print(NewPop[i])\n",
        "    \n",
        "    print(\"Nouvelle génération\", g, \"crée.\")\n",
        "    \n",
        "    #Un des best de la gen (un de bests car plusieurs chemins peuvent faire la même fitness)\n",
        "    winner = Pop[best][:]\n",
        "    \n",
        "    # Nouvelle génération\n",
        "    g += 1\n",
        "    \n",
        "    # La nouvelle population NewPop devient Pop\n",
        "    Pop = NewPop[:]\n",
        "    #print(Pop)\n",
        "    \n",
        "    # NewPop est mise à 0\n",
        "    NewPop = [[0 for _ in range(N)] for _ in range(In)]\n",
        "    #print (NewPop)\n",
        "\n",
        "print (\"\\n--------------------- Réussite ----------------------\")\n",
        "print (\"\\nGoal atteint au bout de\", g, \"générations.\")\n",
        "print (\"Le premier chemin trouvé pour parcourir\", goal, \"km est :\")\n",
        "print (winner)\n",
        "        \n",
        "# Remarques :\n",
        "# - Ce code n'est pas le plus optimisé, mais il est suffisamment simple pour illustrer le principe de l'algorithme.\n",
        "# - Ne gère par les erreurs d'input (variables initialement initialisées directement dans le code) : \n",
        "#       Saisie de texte au lieu de nombres.\n",
        "#       Nombres incohérents (du style créer 20 villes avec minimum 100km entre chaque et vouloir parcourir uniquement 100km).\n",
        "#       Etc.\n",
        "# - Pourrait proposer de créer une fonction qui prend en entrée une liste de villes et qui renvoie une liste de distances.\n",
        "# - Ne gère pas le programme qui tourne en boucle (distance à atteindre trop petite par rapport aux distances).\n",
        "# - On pourrait proposer une distance maximale en fonction des distances générées par exemple.\n",
        "\n",
        "# N'hésitez pas à proposer des améliorations et/ou extensions !\n",
        "        "
      ],
      "metadata": {
        "id": "AoaCQRUgpsqX"
      },
      "execution_count": null,
      "outputs": []
    },
    {
      "cell_type": "markdown",
      "source": [
        "© [As'](https://github.com/astridgcn) & [Ben'](https://https://github.com/SayneGit)"
      ],
      "metadata": {
        "id": "x3QOfEehut9N"
      }
    }
  ]
}